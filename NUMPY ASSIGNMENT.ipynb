{
 "cells": [
  {
   "cell_type": "code",
   "execution_count": 1,
   "id": "9ffe3944",
   "metadata": {},
   "outputs": [],
   "source": [
    "#NUMPY ASSIGNMENT.\n",
    "import numpy as np\n",
    "#1. Create a NumPy array 'arr' of integers from 0 to 5 and print its data type.\n",
    "l = [0,1,2,3,4,5]\n",
    "\n",
    "arr = np.array(l)"
   ]
  },
  {
   "cell_type": "code",
   "execution_count": 2,
   "id": "bd91bb09",
   "metadata": {},
   "outputs": [
    {
     "data": {
      "text/plain": [
       "array([0, 1, 2, 3, 4, 5])"
      ]
     },
     "execution_count": 2,
     "metadata": {},
     "output_type": "execute_result"
    }
   ],
   "source": [
    "arr"
   ]
  },
  {
   "cell_type": "code",
   "execution_count": 3,
   "id": "5536a958",
   "metadata": {},
   "outputs": [
    {
     "data": {
      "text/plain": [
       "numpy.ndarray"
      ]
     },
     "execution_count": 3,
     "metadata": {},
     "output_type": "execute_result"
    }
   ],
   "source": [
    "type(arr)"
   ]
  },
  {
   "cell_type": "code",
   "execution_count": 4,
   "id": "e1bcdc65",
   "metadata": {},
   "outputs": [
    {
     "data": {
      "text/plain": [
       "dtype('int32')"
      ]
     },
     "execution_count": 4,
     "metadata": {},
     "output_type": "execute_result"
    }
   ],
   "source": [
    "arr.dtype"
   ]
  },
  {
   "cell_type": "code",
   "execution_count": 5,
   "id": "c8858396",
   "metadata": {},
   "outputs": [
    {
     "data": {
      "text/plain": [
       "dtype('float64')"
      ]
     },
     "execution_count": 5,
     "metadata": {},
     "output_type": "execute_result"
    }
   ],
   "source": [
    "#2. Given a NumPy array 'arr', check if its data type is float64.\n",
    "arr = np.array([1.5, 2.6, 3.7])\n",
    "arr.dtype"
   ]
  },
  {
   "cell_type": "code",
   "execution_count": 6,
   "id": "b713ff23",
   "metadata": {},
   "outputs": [],
   "source": [
    "#yes,its datatype is float64"
   ]
  },
  {
   "cell_type": "code",
   "execution_count": 7,
   "id": "0237528f",
   "metadata": {},
   "outputs": [],
   "source": [
    "#3. Create a NumPy array 'arr' with a data type of complex128 containing three complex numbers.\n",
    "arr1 = np.array([5+6j,7+2j,8+3j])"
   ]
  },
  {
   "cell_type": "code",
   "execution_count": 8,
   "id": "30d1784b",
   "metadata": {},
   "outputs": [
    {
     "data": {
      "text/plain": [
       "array([5.+6.j, 7.+2.j, 8.+3.j])"
      ]
     },
     "execution_count": 8,
     "metadata": {},
     "output_type": "execute_result"
    }
   ],
   "source": [
    "arr1"
   ]
  },
  {
   "cell_type": "code",
   "execution_count": 9,
   "id": "3d17af9d",
   "metadata": {},
   "outputs": [
    {
     "data": {
      "text/plain": [
       "dtype('complex128')"
      ]
     },
     "execution_count": 9,
     "metadata": {},
     "output_type": "execute_result"
    }
   ],
   "source": [
    "arr1.dtype"
   ]
  },
  {
   "cell_type": "code",
   "execution_count": 10,
   "id": "0c3538be",
   "metadata": {},
   "outputs": [
    {
     "data": {
      "text/plain": [
       "dtype('int32')"
      ]
     },
     "execution_count": 10,
     "metadata": {},
     "output_type": "execute_result"
    }
   ],
   "source": [
    "#4.Convert an existing NumPy array 'arr' of integers to float32 data type.\n",
    "array =np.array( [1,2,3,4,5,6])\n",
    "array.dtype"
   ]
  },
  {
   "cell_type": "code",
   "execution_count": 11,
   "id": "71ab948a",
   "metadata": {},
   "outputs": [
    {
     "data": {
      "text/plain": [
       "array([1., 2., 3., 4., 5., 6.], dtype=float32)"
      ]
     },
     "execution_count": 11,
     "metadata": {},
     "output_type": "execute_result"
    }
   ],
   "source": [
    "array = np.array(array,dtype = 'float32')\n",
    "array"
   ]
  },
  {
   "cell_type": "code",
   "execution_count": 12,
   "id": "f38cec3e",
   "metadata": {},
   "outputs": [],
   "source": [
    "#5. Given a NumPy array 'arr' with float64 data type, convert it to float32 to reduce decimal precision.\n",
    "k = np.linspace(0,5)"
   ]
  },
  {
   "cell_type": "code",
   "execution_count": 13,
   "id": "3c945176",
   "metadata": {},
   "outputs": [
    {
     "data": {
      "text/plain": [
       "dtype('float64')"
      ]
     },
     "execution_count": 13,
     "metadata": {},
     "output_type": "execute_result"
    }
   ],
   "source": [
    "k.dtype"
   ]
  },
  {
   "cell_type": "code",
   "execution_count": 14,
   "id": "41bf3006",
   "metadata": {},
   "outputs": [],
   "source": [
    "\n",
    "k = np.array(k,dtype = 'float32')"
   ]
  },
  {
   "cell_type": "code",
   "execution_count": 15,
   "id": "8a8c08f0",
   "metadata": {},
   "outputs": [
    {
     "data": {
      "text/plain": [
       "array([0.        , 0.10204082, 0.20408164, 0.30612245, 0.40816328,\n",
       "       0.5102041 , 0.6122449 , 0.71428573, 0.81632656, 0.9183673 ,\n",
       "       1.0204082 , 1.1224489 , 1.2244898 , 1.3265306 , 1.4285715 ,\n",
       "       1.5306122 , 1.6326531 , 1.7346939 , 1.8367347 , 1.9387755 ,\n",
       "       2.0408163 , 2.142857  , 2.2448978 , 2.3469388 , 2.4489796 ,\n",
       "       2.5510204 , 2.6530612 , 2.7551022 , 2.857143  , 2.9591837 ,\n",
       "       3.0612245 , 3.1632652 , 3.2653062 , 3.367347  , 3.4693878 ,\n",
       "       3.5714285 , 3.6734693 , 3.7755103 , 3.877551  , 3.9795918 ,\n",
       "       4.0816326 , 4.1836734 , 4.285714  , 4.387755  , 4.4897957 ,\n",
       "       4.591837  , 4.6938777 , 4.7959185 , 4.897959  , 5.        ],\n",
       "      dtype=float32)"
      ]
     },
     "execution_count": 15,
     "metadata": {},
     "output_type": "execute_result"
    }
   ],
   "source": [
    "k"
   ]
  },
  {
   "cell_type": "code",
   "execution_count": 16,
   "id": "b6816638",
   "metadata": {},
   "outputs": [
    {
     "data": {
      "text/plain": [
       "dtype('float32')"
      ]
     },
     "execution_count": 16,
     "metadata": {},
     "output_type": "execute_result"
    }
   ],
   "source": [
    "k.dtype"
   ]
  },
  {
   "cell_type": "code",
   "execution_count": 17,
   "id": "d5d1e3f0",
   "metadata": {},
   "outputs": [
    {
     "data": {
      "text/plain": [
       "((1, 6), 6, dtype('int32'))"
      ]
     },
     "execution_count": 17,
     "metadata": {},
     "output_type": "execute_result"
    }
   ],
   "source": [
    "#6. Write a function array_attributes that takes a NumPy array as input and returns its shape, size, and data \n",
    "type\n",
    "def array_attributes(arr):\n",
    "    return arr.shape,arr.size,arr.dtype\n",
    "arr = np.array([[1,2,3,4,5,6]])\n",
    "array_attributes(arr)"
   ]
  },
  {
   "cell_type": "code",
   "execution_count": 18,
   "id": "3c744a10",
   "metadata": {},
   "outputs": [
    {
     "data": {
      "text/plain": [
       "1"
      ]
     },
     "execution_count": 18,
     "metadata": {},
     "output_type": "execute_result"
    }
   ],
   "source": [
    "#7. Create a function array_dimension that takes a NumPy array as input and returns its dimensionality.\n",
    "def array_dimension(arr):\n",
    "    return arr.ndim\n",
    "arr = np.array([1,2,3,4,5,6,7,8])\n",
    "array_dimension(arr)"
   ]
  },
  {
   "cell_type": "code",
   "execution_count": 19,
   "id": "605f8ba5",
   "metadata": {},
   "outputs": [
    {
     "data": {
      "text/plain": [
       "(4, 32)"
      ]
     },
     "execution_count": 19,
     "metadata": {},
     "output_type": "execute_result"
    }
   ],
   "source": [
    "#8. Design a function item_size_info that takes a NumPy array as input and returns the item size and the total size in bytes.\n",
    "def item_size_info(arr):\n",
    "    return arr.itemsize,arr.nbytes\n",
    "arr = np.array([1,2,3,4,5,6,7,8])\n",
    "item_size_info(arr)"
   ]
  },
  {
   "cell_type": "code",
   "execution_count": 20,
   "id": "53d84b52",
   "metadata": {},
   "outputs": [
    {
     "data": {
      "text/plain": [
       "(12, 4)"
      ]
     },
     "execution_count": 20,
     "metadata": {},
     "output_type": "execute_result"
    }
   ],
   "source": [
    "#9. Create a function array_strides that takes a NumPy array as input and returns the strides of the array.\n",
    "def array_strides(arr):\n",
    "    return arr.strides\n",
    "arr = np.array([[1,2,3],\n",
    "              [4,5,6],\n",
    "              [7,8,9]])\n",
    "array_strides(arr)"
   ]
  },
  {
   "cell_type": "code",
   "execution_count": 21,
   "id": "c368f3de",
   "metadata": {},
   "outputs": [
    {
     "name": "stdout",
     "output_type": "stream",
     "text": [
      "array strides: (12, 4)\n",
      "array shape : (3, 3)\n"
     ]
    },
    {
     "data": {
      "text/plain": [
       "((20, 4), (1, 5))"
      ]
     },
     "execution_count": 21,
     "metadata": {},
     "output_type": "execute_result"
    }
   ],
   "source": [
    "#10. Design a function shape_stride_relationship that takes a NumPy array as input and returns the shape and strides of the array\n",
    "def shape_stride_relationship(arr):\n",
    "    return arr.strides,arr.shape\n",
    "print(\"array strides:\",arr.strides)\n",
    "print(\"array shape :\",arr.shape)\n",
    "arr = np.array([[1,2,3,4,5]])\n",
    "shape_stride_relationship(arr)"
   ]
  },
  {
   "cell_type": "code",
   "execution_count": 22,
   "id": "f28f323c",
   "metadata": {},
   "outputs": [
    {
     "data": {
      "text/plain": [
       "array([0., 0., 0., 0., 0.])"
      ]
     },
     "execution_count": 22,
     "metadata": {},
     "output_type": "execute_result"
    }
   ],
   "source": [
    "#11. Create a function `create_zeros_array` that takes an integer `n` as input and returns a NumPy array of \n",
    "#zeros with `n` elements.\n",
    "def create_zeros_array(n):\n",
    "    arr = np.zeros(n)\n",
    "    return arr\n",
    "create_zeros_array(5)"
   ]
  },
  {
   "cell_type": "code",
   "execution_count": 23,
   "id": "d25b55a8",
   "metadata": {},
   "outputs": [
    {
     "data": {
      "text/plain": [
       "array([[1., 1., 1., 1., 1., 1.],\n",
       "       [1., 1., 1., 1., 1., 1.],\n",
       "       [1., 1., 1., 1., 1., 1.],\n",
       "       [1., 1., 1., 1., 1., 1.],\n",
       "       [1., 1., 1., 1., 1., 1.],\n",
       "       [1., 1., 1., 1., 1., 1.],\n",
       "       [1., 1., 1., 1., 1., 1.],\n",
       "       [1., 1., 1., 1., 1., 1.]])"
      ]
     },
     "execution_count": 23,
     "metadata": {},
     "output_type": "execute_result"
    }
   ],
   "source": [
    "#12. Write a function `create_ones_matrix` that takes integers `rows` and `cols` as inputs and generates a 2D \n",
    "#NumPy array filled with ones of size `rows x cols`\n",
    "def create_ones_matrix(rows,cols):\n",
    "    arr=np.ones((rows,cols))\n",
    "    return arr\n",
    "create_ones_matrix(8,6)"
   ]
  },
  {
   "cell_type": "code",
   "execution_count": 24,
   "id": "b6fe8046",
   "metadata": {},
   "outputs": [],
   "source": [
    "#13. Write a function `generate_range_array` that takes three integers start, stop, and step as arguments and \n",
    "#creates a NumPy array with a range starting from `start`, ending at stop (exclusive), and with the specified `step`"
   ]
  },
  {
   "cell_type": "code",
   "execution_count": 25,
   "id": "7f832450",
   "metadata": {},
   "outputs": [
    {
     "data": {
      "text/plain": [
       "array([ 0,  3,  6,  9, 12, 15, 18])"
      ]
     },
     "execution_count": 25,
     "metadata": {},
     "output_type": "execute_result"
    }
   ],
   "source": [
    "def generate_range_array(start,stop,step):\n",
    "    return np.arange(start,stop,step)\n",
    "generate_range_array(0,20,3)\n",
    "    "
   ]
  },
  {
   "cell_type": "code",
   "execution_count": 26,
   "id": "cb56635f",
   "metadata": {},
   "outputs": [
    {
     "data": {
      "text/plain": [
       "array([ 0.,  2.,  4.,  6.,  8., 10.])"
      ]
     },
     "execution_count": 26,
     "metadata": {},
     "output_type": "execute_result"
    }
   ],
   "source": [
    "#14. Design a function `generate_linear_space` that takes two floats `start`, `stop`, and an integer `num` as \n",
    "#arguments and generates a NumPy array with num equally spaced values between `start` and `stop` (inclusive).\n",
    "def generate_linear_space(start,stop,num):\n",
    "    return np.linspace(start,stop,num)\n",
    "generate_linear_space(0,10,6)"
   ]
  },
  {
   "cell_type": "code",
   "execution_count": 27,
   "id": "9dbf2b8e",
   "metadata": {},
   "outputs": [
    {
     "data": {
      "text/plain": [
       "array([[1., 0., 0., 0., 0., 0., 0., 0.],\n",
       "       [0., 1., 0., 0., 0., 0., 0., 0.],\n",
       "       [0., 0., 1., 0., 0., 0., 0., 0.],\n",
       "       [0., 0., 0., 1., 0., 0., 0., 0.],\n",
       "       [0., 0., 0., 0., 1., 0., 0., 0.],\n",
       "       [0., 0., 0., 0., 0., 1., 0., 0.],\n",
       "       [0., 0., 0., 0., 0., 0., 1., 0.],\n",
       "       [0., 0., 0., 0., 0., 0., 0., 1.]])"
      ]
     },
     "execution_count": 27,
     "metadata": {},
     "output_type": "execute_result"
    }
   ],
   "source": [
    "#15. Create a function `create_identity_matrix` that takes an integer `n` as input and generates a square \n",
    "#identity matrix of size `n x n` using `numpy.eye`.\n",
    "def create_identity_matrix(n):\n",
    "    return np.eye(n)\n",
    "create_identity_matrix(8)"
   ]
  },
  {
   "cell_type": "code",
   "execution_count": 28,
   "id": "a320782b",
   "metadata": {},
   "outputs": [
    {
     "data": {
      "text/plain": [
       "array([1, 2, 3, 4, 5])"
      ]
     },
     "execution_count": 28,
     "metadata": {},
     "output_type": "execute_result"
    }
   ],
   "source": [
    "#16. Write a function that takes a Python list and converts it into a NumPy array.\n",
    "def list_to_array(list):\n",
    "    return np.array(list)\n",
    "list_to_array([1,2,3,4,5])"
   ]
  },
  {
   "cell_type": "code",
   "execution_count": 29,
   "id": "8240dc45",
   "metadata": {},
   "outputs": [
    {
     "name": "stdout",
     "output_type": "stream",
     "text": [
      "[1 2 3 4 5]\n",
      "[10  2  3  4  5]\n"
     ]
    }
   ],
   "source": [
    "#17. Create a NumPy array and demonstrate the use of `numpy.view` to create a new array object with the same data.\n",
    "arr = np.array([1,2,3,4,5])\n",
    "varr = arr.view()\n",
    "print(arr)\n",
    "varr[0]=10\n",
    "print(varr)\n",
    "#both shares the same data but sre different objects."
   ]
  },
  {
   "cell_type": "code",
   "execution_count": 30,
   "id": "6e9239b4",
   "metadata": {},
   "outputs": [
    {
     "data": {
      "text/plain": [
       "array([[1, 2, 3, 4, 5],\n",
       "       [6, 7, 8, 9, 4]])"
      ]
     },
     "execution_count": 30,
     "metadata": {},
     "output_type": "execute_result"
    }
   ],
   "source": [
    "#18. Write a function that takes two NumPy arrays and concatenates them along a specified axis.\n",
    "def array_concatenate(arr1,arr2,axis):\n",
    "    return np.concatenate((arr1,arr2),axis)\n",
    "arr1 = [[1,2,3,4,5]]\n",
    "arr2=[[6,7,8,9,4]]\n",
    "axis = 0\n",
    "array_concatenate(arr1,arr2,axis)"
   ]
  },
  {
   "cell_type": "code",
   "execution_count": 31,
   "id": "45c052aa",
   "metadata": {},
   "outputs": [],
   "source": [
    "#19. Create two NumPy arrays with different shapes and concatenate them horizontally using `numpy.concatenate`"
   ]
  },
  {
   "cell_type": "code",
   "execution_count": 32,
   "id": "d2bfe839",
   "metadata": {},
   "outputs": [],
   "source": [
    "a = np.array([[1,2,3],[6,7,8]])\n",
    "b = np.array(([4,5],[9,10]))"
   ]
  },
  {
   "cell_type": "code",
   "execution_count": 33,
   "id": "41e7400f",
   "metadata": {},
   "outputs": [
    {
     "data": {
      "text/plain": [
       "array([[ 1,  2,  3,  4,  5],\n",
       "       [ 6,  7,  8,  9, 10]])"
      ]
     },
     "execution_count": 33,
     "metadata": {},
     "output_type": "execute_result"
    }
   ],
   "source": [
    "np.concatenate((a,b),axis = 1)"
   ]
  },
  {
   "cell_type": "code",
   "execution_count": 99,
   "id": "8b6eba38",
   "metadata": {},
   "outputs": [
    {
     "name": "stdout",
     "output_type": "stream",
     "text": [
      "[[ 1  2  3]\n",
      " [ 4  5  6]\n",
      " [ 9  8  7]\n",
      " [ 4  3  5]\n",
      " [10 11 12]\n",
      " [13 14 15]]\n"
     ]
    }
   ],
   "source": [
    "#20. Write a function that vertically stacks multiple NumPy arrays given as a list.\n",
    "def vertically_stack_arrays(arraylist):  \n",
    "    return   np.vstack(arraylist)\n",
    "arr1=np.array([[1,2,3],[4,5,6]])\n",
    "arr2 = np.array([[9,8,7],[4,3,5]])\n",
    "arr3 = np.array([[10,11,12],[13,14,15]])\n",
    "arraylist = [arr1,arr2,arr3]\n",
    "print(np.vstack(arraylist))"
   ]
  },
  {
   "cell_type": "code",
   "execution_count": null,
   "id": "1683d3db",
   "metadata": {},
   "outputs": [],
   "source": [
    "#21. Write a Python function using NumPy to create an array of integers within a specified range (inclusive) \n",
    "#with a given step size.\n",
    "def array(start,end,step):\n",
    "    return np.arange(start,end,step)\n",
    "res = array(1,10,2)\n",
    "print(res)"
   ]
  },
  {
   "cell_type": "code",
   "execution_count": null,
   "id": "ac7d4091",
   "metadata": {},
   "outputs": [],
   "source": [
    "#22. Write a Python function using NumPy to generate an array of 10 equally spaced values between 0 and 1 (inclusive)\n",
    "def array(start,end,step):\n",
    "    return np.linspace(start,end,step)\n",
    "res = array(0,1,10)\n",
    "print(res)"
   ]
  },
  {
   "cell_type": "code",
   "execution_count": null,
   "id": "a58fe645",
   "metadata": {},
   "outputs": [],
   "source": [
    "#23. Write a Python function using NumPy to create an array of 5 logarithmically spaced values between 1 and 1000 (inclusive)"
   ]
  },
  {
   "cell_type": "code",
   "execution_count": null,
   "id": "72499310",
   "metadata": {},
   "outputs": [],
   "source": [
    "def array(start,end,step):\n",
    "    return np.logspace(np.log10(start),np.log10(end),step)\n",
    "res = array(1,1000,5)\n",
    "print(res)"
   ]
  },
  {
   "cell_type": "code",
   "execution_count": null,
   "id": "778651bf",
   "metadata": {},
   "outputs": [],
   "source": [
    "#24. Create a Pandas DataFrame using a NumPy array that contains 5 rows and 3 columns, where the values \n",
    "#are random integers between 1 and 100.\n",
    "import pandas as pd"
   ]
  },
  {
   "cell_type": "code",
   "execution_count": null,
   "id": "96d24068",
   "metadata": {},
   "outputs": [],
   "source": [
    "array = np.array([[1,2,3],[4,5,6],[7,8,9],[10,11,12],[13,14,15]])"
   ]
  },
  {
   "cell_type": "code",
   "execution_count": null,
   "id": "1035ce52",
   "metadata": {},
   "outputs": [],
   "source": [
    "array.shape"
   ]
  },
  {
   "cell_type": "code",
   "execution_count": null,
   "id": "052eb32c",
   "metadata": {},
   "outputs": [],
   "source": [
    "df = pd.DataFrame(array)"
   ]
  },
  {
   "cell_type": "code",
   "execution_count": null,
   "id": "8645b4ef",
   "metadata": {},
   "outputs": [],
   "source": [
    "df"
   ]
  },
  {
   "cell_type": "code",
   "execution_count": null,
   "id": "fa1a3b74",
   "metadata": {},
   "outputs": [],
   "source": [
    "#25. Write a function that takes a Pandas DataFrame and replaces all negative values in a specific column \n",
    "#with zeros. Use NumPy operations within the Pandas DataFrame.\n",
    "def pandafunc(df,col):\n",
    "    if col in df.columns:\n",
    "        df[col] = np.where(df[col]<0,0,df[col])\n",
    "    else:\n",
    "        print(\"please pass valid arguments\")"
   ]
  },
  {
   "cell_type": "code",
   "execution_count": null,
   "id": "ecf420ae",
   "metadata": {},
   "outputs": [],
   "source": [
    "data = {'A': [1, -2, 3, -4, 5], 'B': [-1, 2, -3, 4, -5]}\n",
    "df = pd.DataFrame(data)"
   ]
  },
  {
   "cell_type": "code",
   "execution_count": null,
   "id": "746d55eb",
   "metadata": {},
   "outputs": [],
   "source": [
    "pandafunc(df,'A')"
   ]
  },
  {
   "cell_type": "code",
   "execution_count": null,
   "id": "b68dace0",
   "metadata": {},
   "outputs": [],
   "source": [
    "df"
   ]
  },
  {
   "cell_type": "code",
   "execution_count": null,
   "id": "8ab1cfec",
   "metadata": {},
   "outputs": [],
   "source": [
    "#26. Access the 3rd element from the given NumPy array.\n",
    "arr = np.array([10, 20, 30, 40, 50])\n",
    "arr[2]#indexing start from zero third element is 30"
   ]
  },
  {
   "cell_type": "code",
   "execution_count": null,
   "id": "1104c5a7",
   "metadata": {},
   "outputs": [],
   "source": [
    "#27. Retrieve the element at index (1, 2) from the 2D NumPy array.\n",
    "arr_2d = np.array([[1, 2, 3],\n",
    "                   [4, 5, 6],\n",
    "                   [7, 8, 9]])\n",
    "arr_2d[1][2] #or we can use arr_2d[1,2]"
   ]
  },
  {
   "cell_type": "code",
   "execution_count": null,
   "id": "ace558ad",
   "metadata": {},
   "outputs": [],
   "source": [
    "#28. Using boolean indexing, extract elements greater than 5 from the given NumPy array.\n",
    "arr = np.array([3, 8, 2, 10, 5, 7])\n",
    "arr1=[]\n",
    "for i in arr:\n",
    "    if i > 5:\n",
    "        arr1.append(i)"
   ]
  },
  {
   "cell_type": "code",
   "execution_count": null,
   "id": "5901b6ad",
   "metadata": {},
   "outputs": [],
   "source": [
    "arr1"
   ]
  },
  {
   "cell_type": "code",
   "execution_count": null,
   "id": "aa059c27",
   "metadata": {},
   "outputs": [],
   "source": [
    "#method 2:\n",
    "arr = np.array([3, 8, 2, 10, 5, 7])\n",
    "mask = arr > 5\n",
    "grater_than_5 = arr[mask]\n",
    "grater_than_5"
   ]
  },
  {
   "cell_type": "code",
   "execution_count": null,
   "id": "b5b26044",
   "metadata": {},
   "outputs": [],
   "source": [
    "#29. Perform basic slicing to extract elements from index 2 to 5 (inclusive) from the given NumPy array.\n",
    "arr = np.array([1, 2, 3, 4, 5, 6, 7, 8, 9])\n",
    "arr[2:6]#elements from the index 2 to 5"
   ]
  },
  {
   "cell_type": "code",
   "execution_count": null,
   "id": "ed9c2726",
   "metadata": {},
   "outputs": [],
   "source": [
    "#30. Slice the 2D NumPy array to extract the sub-array `[[2, 3], [5, 6]]` from the given array.\n",
    "arr_2d = np.array([[1, 2, 3],\n",
    "                   [4, 5, 6],\n",
    "                   [7, 8, 9]])\n",
    "arr_2d[0:2,1:3]"
   ]
  },
  {
   "cell_type": "code",
   "execution_count": null,
   "id": "4c62adf4",
   "metadata": {},
   "outputs": [],
   "source": [
    "#31.Write a NumPy function to extract elements in specific order from a given 2D array based on indices \n",
    "#provided in another array.\n",
    "def elements(arr,indices):\n",
    "    return np.take(arr,indices)\n",
    "arr = [[1,2,3],[4,5,6],[7,8,9]]\n",
    "indices = np.array([[0, 2], [1, 1], [2, 0],[8,7]])\n",
    "elements(arr,indices)"
   ]
  },
  {
   "cell_type": "code",
   "execution_count": null,
   "id": "3212c9cd",
   "metadata": {},
   "outputs": [],
   "source": [
    "#32. Create a NumPy function that filters elements greater than a threshold from a given 1D array using \n",
    "#boolean indexing"
   ]
  },
  {
   "cell_type": "code",
   "execution_count": null,
   "id": "42f935db",
   "metadata": {},
   "outputs": [],
   "source": [
    "arr = np.array([4,5,3,200,86,55,73])\n",
    "def returnelements(arr,threshold):\n",
    "    mask = arr>threshold\n",
    "    return arr[mask]\n",
    "returnelements(arr,70)"
   ]
  },
  {
   "cell_type": "code",
   "execution_count": null,
   "id": "c7d19088",
   "metadata": {},
   "outputs": [],
   "source": [
    "#33. Develop a NumPy function that extracts specific elements from a 3D array using indices provided in three \n",
    "#separate arrays for each dimension.\n",
    "def elements3d(arr,indices_0,indices_1,indices_2):\n",
    "    return arr[indices_0,indices_1,indices_2]\n",
    "arr = np.arange(27).reshape((3,3,3))\n",
    "indices_0 = np.array([0, 1,2])\n",
    "indices_1 = np.array([2, 0,1])\n",
    "indices_2 = np.array([0, 2,0])\n",
    "elements3d(arr,indices_0,indices_1,indices_2)"
   ]
  },
  {
   "cell_type": "code",
   "execution_count": 35,
   "id": "d9d9a9a9",
   "metadata": {},
   "outputs": [
    {
     "data": {
      "text/plain": [
       "array([55])"
      ]
     },
     "execution_count": 35,
     "metadata": {},
     "output_type": "execute_result"
    }
   ],
   "source": [
    "#34. Write a NumPy function that returns elements from an array where both two conditions are satisfied \n",
    "#using boolean indexing.\n",
    "arr = np.array([4,5,3,200,86,55,73])\n",
    "def returnelements2(arr,one,two):\n",
    "    mask = (arr>two)&(arr<one)\n",
    "    return arr[mask]\n",
    "returnelements2(arr,70,50)"
   ]
  },
  {
   "cell_type": "code",
   "execution_count": 36,
   "id": "aa86a468",
   "metadata": {},
   "outputs": [
    {
     "data": {
      "text/plain": [
       "array([1, 9])"
      ]
     },
     "execution_count": 36,
     "metadata": {},
     "output_type": "execute_result"
    }
   ],
   "source": [
    "#35. Create a NumPy function that extracts elements from a 2D array using row and column indices provided \n",
    "#in separate arrays\n",
    "def elementsrc(arr,row,col):\n",
    "    return arr[row,col]\n",
    "arr = np.array([[1,2,3],[4,5,6],[7,8,9]])\n",
    "row = np.array([0, 2])\n",
    "col = np.array([0, 2])\n",
    "elementsrc(arr,row,col)"
   ]
  },
  {
   "cell_type": "code",
   "execution_count": 37,
   "id": "7f30e79a",
   "metadata": {},
   "outputs": [
    {
     "data": {
      "text/plain": [
       "array([[0, 1, 2],\n",
       "       [3, 4, 5],\n",
       "       [6, 7, 8]])"
      ]
     },
     "execution_count": 37,
     "metadata": {},
     "output_type": "execute_result"
    }
   ],
   "source": [
    "#6. Given an array arr of shape (3, 3), add a scalar value of 5 to each element using NumPy broadcasting.\n",
    "arr = np.arange(9).reshape(3,3)\n",
    "arr"
   ]
  },
  {
   "cell_type": "code",
   "execution_count": 38,
   "id": "827fb6d0",
   "metadata": {},
   "outputs": [
    {
     "data": {
      "text/plain": [
       "array([[ 5,  6,  7],\n",
       "       [ 8,  9, 10],\n",
       "       [11, 12, 13]])"
      ]
     },
     "execution_count": 38,
     "metadata": {},
     "output_type": "execute_result"
    }
   ],
   "source": [
    "arr+5"
   ]
  },
  {
   "cell_type": "code",
   "execution_count": 39,
   "id": "d6963e92",
   "metadata": {},
   "outputs": [],
   "source": [
    "#37. Consider two arrays arr1 of shape (1, 3) and arr2 of shape (3, 4). Multiply each row of arr2 by the \n",
    "#corresponding element in arr1 using NumPy broadcasting.\n",
    "arr1 = np.arange(3).reshape(1,3)\n",
    "arr2 = np.arange(12).reshape(3,4)"
   ]
  },
  {
   "cell_type": "code",
   "execution_count": 40,
   "id": "c40325f7",
   "metadata": {},
   "outputs": [
    {
     "data": {
      "text/plain": [
       "(1, 3)"
      ]
     },
     "execution_count": 40,
     "metadata": {},
     "output_type": "execute_result"
    }
   ],
   "source": [
    "arr1.shape"
   ]
  },
  {
   "cell_type": "code",
   "execution_count": 41,
   "id": "c55ce14b",
   "metadata": {},
   "outputs": [
    {
     "data": {
      "text/plain": [
       "(3, 4)"
      ]
     },
     "execution_count": 41,
     "metadata": {},
     "output_type": "execute_result"
    }
   ],
   "source": [
    "arr2.shape"
   ]
  },
  {
   "cell_type": "code",
   "execution_count": 42,
   "id": "46e11146",
   "metadata": {},
   "outputs": [],
   "source": [
    "aT = arr1.T"
   ]
  },
  {
   "cell_type": "code",
   "execution_count": 43,
   "id": "816cdfd9",
   "metadata": {},
   "outputs": [
    {
     "data": {
      "text/plain": [
       "array([[ 0,  0,  0,  0],\n",
       "       [ 4,  5,  6,  7],\n",
       "       [16, 18, 20, 22]])"
      ]
     },
     "execution_count": 43,
     "metadata": {},
     "output_type": "execute_result"
    }
   ],
   "source": [
    "aT * arr2"
   ]
  },
  {
   "cell_type": "code",
   "execution_count": 44,
   "id": "6fc160ed",
   "metadata": {},
   "outputs": [],
   "source": [
    "#38. Given a 1D array arr1 of shape (1, 4) and a 2D array arr2 of shape (4, 3), add arr1 to each row of arr2 using \n",
    "#NumPy broadcasting."
   ]
  },
  {
   "cell_type": "code",
   "execution_count": 45,
   "id": "fda7aeea",
   "metadata": {},
   "outputs": [],
   "source": [
    "arr1 =np.array([1,2,3,4]).reshape(1,4)"
   ]
  },
  {
   "cell_type": "code",
   "execution_count": 46,
   "id": "04bef8d8",
   "metadata": {},
   "outputs": [
    {
     "data": {
      "text/plain": [
       "(1, 4)"
      ]
     },
     "execution_count": 46,
     "metadata": {},
     "output_type": "execute_result"
    }
   ],
   "source": [
    "arr1.shape"
   ]
  },
  {
   "cell_type": "code",
   "execution_count": 47,
   "id": "6274375a",
   "metadata": {},
   "outputs": [],
   "source": [
    "arr2 = np.arange(12).reshape(4,3)"
   ]
  },
  {
   "cell_type": "code",
   "execution_count": 48,
   "id": "fc42c9f7",
   "metadata": {},
   "outputs": [
    {
     "data": {
      "text/plain": [
       "(4, 3)"
      ]
     },
     "execution_count": 48,
     "metadata": {},
     "output_type": "execute_result"
    }
   ],
   "source": [
    "arr2.shape"
   ]
  },
  {
   "cell_type": "code",
   "execution_count": 49,
   "id": "7963f4a0",
   "metadata": {},
   "outputs": [
    {
     "data": {
      "text/plain": [
       "array([[ 1,  2,  3],\n",
       "       [ 5,  6,  7],\n",
       "       [ 9, 10, 11],\n",
       "       [13, 14, 15]])"
      ]
     },
     "execution_count": 49,
     "metadata": {},
     "output_type": "execute_result"
    }
   ],
   "source": [
    "aT = arr1.T\n",
    "arr2 + aT"
   ]
  },
  {
   "cell_type": "code",
   "execution_count": 50,
   "id": "cbd79782",
   "metadata": {},
   "outputs": [],
   "source": [
    "#39. Consider two arrays arr1 of shape (3, 1) and arr2 of shape (1, 3). Add these arrays using NumPy \n",
    "#broadcasting.\n",
    "arr1 = np.arange(3).reshape(3,1)\n",
    "arr2 = np.arange(3).reshape(1,3)"
   ]
  },
  {
   "cell_type": "code",
   "execution_count": 51,
   "id": "b2c0a0c9",
   "metadata": {},
   "outputs": [
    {
     "data": {
      "text/plain": [
       "array([[0],\n",
       "       [1],\n",
       "       [2]])"
      ]
     },
     "execution_count": 51,
     "metadata": {},
     "output_type": "execute_result"
    }
   ],
   "source": [
    "arr1"
   ]
  },
  {
   "cell_type": "code",
   "execution_count": 52,
   "id": "9b47f38c",
   "metadata": {},
   "outputs": [
    {
     "data": {
      "text/plain": [
       "array([[0, 1, 2]])"
      ]
     },
     "execution_count": 52,
     "metadata": {},
     "output_type": "execute_result"
    }
   ],
   "source": [
    "arr2"
   ]
  },
  {
   "cell_type": "code",
   "execution_count": 53,
   "id": "52022a2c",
   "metadata": {},
   "outputs": [
    {
     "data": {
      "text/plain": [
       "array([[0, 1, 2],\n",
       "       [1, 2, 3],\n",
       "       [2, 3, 4]])"
      ]
     },
     "execution_count": 53,
     "metadata": {},
     "output_type": "execute_result"
    }
   ],
   "source": [
    "arr1 + arr2"
   ]
  },
  {
   "cell_type": "code",
   "execution_count": 54,
   "id": "0630055a",
   "metadata": {},
   "outputs": [],
   "source": [
    "#40. Given arrays arr1 of shape (2, 3) and arr2 of shape (2, 2), perform multiplication using NumPy \n",
    "#broadcasting. Handle the shape incompatibility.\n",
    "arr1 = np.arange(6).reshape(2,3)\n",
    "arr2 = np.arange(4).reshape(2,2)"
   ]
  },
  {
   "cell_type": "code",
   "execution_count": 55,
   "id": "482e05bb",
   "metadata": {},
   "outputs": [],
   "source": [
    "arr1 = arr1.T"
   ]
  },
  {
   "cell_type": "code",
   "execution_count": 56,
   "id": "ff7e57bd",
   "metadata": {},
   "outputs": [
    {
     "ename": "ValueError",
     "evalue": "operands could not be broadcast together with shapes (3,2) (2,2) ",
     "output_type": "error",
     "traceback": [
      "\u001b[1;31m---------------------------------------------------------------------------\u001b[0m",
      "\u001b[1;31mValueError\u001b[0m                                Traceback (most recent call last)",
      "Cell \u001b[1;32mIn[56], line 1\u001b[0m\n\u001b[1;32m----> 1\u001b[0m arr1 \u001b[38;5;241m*\u001b[39m arr2\n",
      "\u001b[1;31mValueError\u001b[0m: operands could not be broadcast together with shapes (3,2) (2,2) "
     ]
    }
   ],
   "source": [
    "arr1 * arr2"
   ]
  },
  {
   "cell_type": "code",
   "execution_count": 57,
   "id": "c7a64430",
   "metadata": {},
   "outputs": [
    {
     "data": {
      "text/plain": [
       "array([2.5, 3.5, 4.5])"
      ]
     },
     "execution_count": 57,
     "metadata": {},
     "output_type": "execute_result"
    }
   ],
   "source": [
    "#41. Calculate column wise mean for the given array\n",
    "arr = np.array([[1, 2, 3], [4, 5, 6]])\n",
    "mean = np.mean(arr,axis = 0)\n",
    "mean"
   ]
  },
  {
   "cell_type": "code",
   "execution_count": 58,
   "id": "d2620d16",
   "metadata": {},
   "outputs": [
    {
     "data": {
      "text/plain": [
       "array([3, 6])"
      ]
     },
     "execution_count": 58,
     "metadata": {},
     "output_type": "execute_result"
    }
   ],
   "source": [
    "# Find maximum value in each row of the given array\n",
    "arr = np.array([[1, 2, 3], [4, 5, 6]])\n",
    "max_value = arr.max(axis = 1)\n",
    "max_value"
   ]
  },
  {
   "cell_type": "code",
   "execution_count": 59,
   "id": "6d9fe002",
   "metadata": {},
   "outputs": [
    {
     "data": {
      "text/plain": [
       "array([3, 6])"
      ]
     },
     "execution_count": 59,
     "metadata": {},
     "output_type": "execute_result"
    }
   ],
   "source": [
    "#method2\n",
    "max_value = np.max(arr,axis = 1)\n",
    "max_value"
   ]
  },
  {
   "cell_type": "code",
   "execution_count": 60,
   "id": "32ac575a",
   "metadata": {},
   "outputs": [
    {
     "data": {
      "text/plain": [
       "array([2, 2], dtype=int64)"
      ]
     },
     "execution_count": 60,
     "metadata": {},
     "output_type": "execute_result"
    }
   ],
   "source": [
    "#43. For the given array, find indices of maximum value in each column\n",
    "arr = np.array([[1, 2, 3], [4, 5, 6]])\n",
    "col_max_index = np.argmax(arr,axis = 1)\n",
    "col_max_index"
   ]
  },
  {
   "cell_type": "code",
   "execution_count": 61,
   "id": "c9e6299b",
   "metadata": {},
   "outputs": [
    {
     "data": {
      "text/plain": [
       "array([ 6, 15])"
      ]
     },
     "execution_count": 61,
     "metadata": {},
     "output_type": "execute_result"
    }
   ],
   "source": [
    "#44. For the given array, apply custom function to calculate moving sum along rows.\n",
    "arr = np.array([[1, 2, 3], [4, 5, 6]])\n",
    "arr.sum(axis = 1)"
   ]
  },
  {
   "cell_type": "code",
   "execution_count": 62,
   "id": "f7f81d31",
   "metadata": {},
   "outputs": [
    {
     "name": "stdout",
     "output_type": "stream",
     "text": [
      "Moving sum along rows:\n",
      "[[ 3  5]\n",
      " [ 9 11]]\n"
     ]
    }
   ],
   "source": [
    "\n",
    "def moving_sum(arr, window_size=2):\n",
    "    return np.array([np.sum(arr[i:i+window_size]) for i in range(len(arr) - window_size + 1)])\n",
    "result = np.apply_along_axis(moving_sum, axis=1, arr=arr)\n",
    "print(\"Moving sum along rows:\")\n",
    "print(result)"
   ]
  },
  {
   "cell_type": "code",
   "execution_count": 63,
   "id": "0b78cbcf",
   "metadata": {},
   "outputs": [
    {
     "data": {
      "text/plain": [
       "array([False, False, False])"
      ]
     },
     "execution_count": 63,
     "metadata": {},
     "output_type": "execute_result"
    }
   ],
   "source": [
    "#45. In the given array, check if all elements in each column are even.\n",
    "arr = np.array([[2, 4, 6], [3, 5, 7]])\n",
    "even = np.all(arr%2 == 0,axis = 0)\n",
    "even"
   ]
  },
  {
   "cell_type": "code",
   "execution_count": 64,
   "id": "9c243d4d",
   "metadata": {},
   "outputs": [
    {
     "data": {
      "text/plain": [
       "array([[1],\n",
       "       [2],\n",
       "       [3],\n",
       "       [4],\n",
       "       [5],\n",
       "       [6]])"
      ]
     },
     "execution_count": 64,
     "metadata": {},
     "output_type": "execute_result"
    }
   ],
   "source": [
    "#46. Given a NumPy array arr, reshape it into a matrix of dimensions `m` rows and `n` columns. Return the \n",
    "#reshaped matrix.\n",
    "original_array = np.array([1, 2, 3, 4, 5, 6])\n",
    "def reshape(arr,m,n):\n",
    "    return arr.reshape(m,n)\n",
    "m,n = 6,1\n",
    "reshape(original_array,m,n)"
   ]
  },
  {
   "cell_type": "code",
   "execution_count": 65,
   "id": "16441096",
   "metadata": {},
   "outputs": [
    {
     "data": {
      "text/plain": [
       "[1, 2, 3, 4, 5, 6]"
      ]
     },
     "execution_count": 65,
     "metadata": {},
     "output_type": "execute_result"
    }
   ],
   "source": [
    "#47. Create a function that takes a matrix as input and returns the flattened array.\n",
    "input_matrix = np.array([[1, 2, 3], [4, 5, 6]])\n",
    "def flatten_matrix(matrix):\n",
    "    return [element for row in matrix for element in row]\n",
    "flatten_matrix(input_matrix)"
   ]
  },
  {
   "cell_type": "code",
   "execution_count": 66,
   "id": "40177d06",
   "metadata": {},
   "outputs": [
    {
     "data": {
      "text/plain": [
       "array([[1, 2],\n",
       "       [3, 4],\n",
       "       [5, 6],\n",
       "       [7, 8]])"
      ]
     },
     "execution_count": 66,
     "metadata": {},
     "output_type": "execute_result"
    }
   ],
   "source": [
    "#48. Write a function that concatenates two given arrays along a specified axis.\n",
    "array1 = np.array([[1, 2], [3, 4]])\n",
    "array2 = np.array([[5, 6], [7, 8]])\n",
    "concat = np.concatenate((array1,array2),axis = 0)\n",
    "concat"
   ]
  },
  {
   "cell_type": "code",
   "execution_count": 67,
   "id": "a4429676",
   "metadata": {},
   "outputs": [
    {
     "name": "stdout",
     "output_type": "stream",
     "text": [
      "along rows [array([[1, 2, 3]]), array([[4, 5, 6]]), array([[7, 8, 9]])]\n",
      "along column [array([[1],\n",
      "       [4],\n",
      "       [7]]), array([[2],\n",
      "       [5],\n",
      "       [8]]), array([[3],\n",
      "       [6],\n",
      "       [9]])]\n"
     ]
    }
   ],
   "source": [
    "#49. Create a function that splits an array into multiple sub-arrays along a specified axis.\n",
    "original_array = np.array([[1, 2, 3], [4, 5, 6], [7, 8, 9]])\n",
    "a1 = np.split(original_array,3,axis = 0)\n",
    "a2 = np.split(original_array,3,axis = 1)\n",
    "print(\"along rows\",a1)\n",
    "print(\"along column\",a2)"
   ]
  },
  {
   "cell_type": "code",
   "execution_count": 68,
   "id": "d181f09b",
   "metadata": {},
   "outputs": [
    {
     "name": "stdout",
     "output_type": "stream",
     "text": [
      "[ 1  2 10  3  4 11  5]\n",
      "[1 3 5]\n",
      "[1 2 3 4 5]\n"
     ]
    }
   ],
   "source": [
    "#50. Write a function that inserts and then deletes elements from a given array at specified indices.\n",
    "original_array = np.array([1, 2, 3, 4, 5])\n",
    "indices_to_insert = [2, 4]\n",
    "values_to_insert = [10, 11]\n",
    "indices_to_delete = [1, 3]\n",
    "def insert_delete(original_array,indices_to_insert,values_to_insert,indices_to_delete):\n",
    "    insert = np.insert(original_array,indices_to_insert,values_to_insert)\n",
    "    print(insert)\n",
    "    delete = np.delete(original_array,indices_to_delete)\n",
    "    print(delete)\n",
    "    print(original_array)\n",
    "insert_delete(original_array,indices_to_insert,values_to_insert,indices_to_delete)"
   ]
  },
  {
   "cell_type": "code",
   "execution_count": 69,
   "id": "148fc3cc",
   "metadata": {},
   "outputs": [
    {
     "data": {
      "text/plain": [
       "array([ 2,  4,  6,  8, 10, 12, 14, 16, 18, 20])"
      ]
     },
     "execution_count": 69,
     "metadata": {},
     "output_type": "execute_result"
    }
   ],
   "source": [
    "#51. Create a NumPy array `arr1` with random integers and another array `arr2` with integers from 1 to 10. \n",
    "#Perform element-wise addition between `arr1` and `arr2`arr1 = np.random.randint(1,11,10)\n",
    "arr1 = np.arange(1,11)\n",
    "arr2 = np.arange(1,11)\n",
    "result = np.add(arr1,arr2)\n",
    "result"
   ]
  },
  {
   "cell_type": "code",
   "execution_count": 70,
   "id": "c2a99b29",
   "metadata": {},
   "outputs": [
    {
     "data": {
      "text/plain": [
       "array([ 9,  7,  5,  3,  1, -1, -3, -5, -7, -9])"
      ]
     },
     "execution_count": 70,
     "metadata": {},
     "output_type": "execute_result"
    }
   ],
   "source": [
    "#52. Generate a NumPy array `arr1` with sequential integers from 10 to 1 and another array `arr2` with integers \n",
    "#from 1 to 10. Subtract `arr2` from `arr1` element-wise.\n",
    "arr1 = np.arange(10,0,-1)\n",
    "arr2 = np.arange(1,11)\n",
    "result = np.subtract(arr1,arr2)\n",
    "result"
   ]
  },
  {
   "cell_type": "code",
   "execution_count": 71,
   "id": "bdc6b17b",
   "metadata": {},
   "outputs": [
    {
     "data": {
      "text/plain": [
       "array([ 8,  8, 18,  8, 30])"
      ]
     },
     "execution_count": 71,
     "metadata": {},
     "output_type": "execute_result"
    }
   ],
   "source": [
    "#53. Create a NumPy array `arr1` with random integers and another array `arr2` with integers from 1 to 5. \n",
    "#Perform element-wise multiplication between `arr1` and `arr2`\n",
    "arr1 = np.arange(1,6)\n",
    "arr2 = np.random.randint(1,10,size = 5)\n",
    "result = np.multiply(arr1,arr2)\n",
    "result"
   ]
  },
  {
   "cell_type": "code",
   "execution_count": 72,
   "id": "31670d37",
   "metadata": {},
   "outputs": [
    {
     "name": "stdout",
     "output_type": "stream",
     "text": [
      "[ 2  4  6  8 10]\n",
      "[3 1 5 3 2]\n"
     ]
    },
    {
     "data": {
      "text/plain": [
       "array([0.66666667, 4.        , 1.2       , 2.66666667, 5.        ])"
      ]
     },
     "execution_count": 72,
     "metadata": {},
     "output_type": "execute_result"
    }
   ],
   "source": [
    "#54. Generate a NumPy array `arr1` with even integers from 2 to 10 and another array `arr2` with integers from 1 \n",
    "#to 5. Perform element-wise division of `arr1` by `arr2`\n",
    "arr2 = np.random.randint(1,6,5)\n",
    "arr1 = np.arange(2,12,2)\n",
    "result = arr1/arr2\n",
    "print(arr1)\n",
    "print(arr2)\n",
    "result"
   ]
  },
  {
   "cell_type": "code",
   "execution_count": 73,
   "id": "136eb99c",
   "metadata": {},
   "outputs": [
    {
     "name": "stdout",
     "output_type": "stream",
     "text": [
      "[3 3 3 3 4]\n",
      "[4 3 3 3 3]\n"
     ]
    },
    {
     "data": {
      "text/plain": [
       "array([81, 27, 27, 27, 64])"
      ]
     },
     "execution_count": 73,
     "metadata": {},
     "output_type": "execute_result"
    }
   ],
   "source": [
    "#55. Create a NumPy array `arr1` with integers from 1 to 5 and another array `arr2` with the same numbers \n",
    "#reversed. Calculate the exponentiation of `arr1` raised to the power of `arr2` element-wise.\n",
    "arr1 = np.random.randint(1,6,5)\n",
    "print(arr1)\n",
    "arr2 = arr1[::-1]\n",
    "print(arr2)\n",
    "result = np.power(arr1,arr2)\n",
    "result"
   ]
  },
  {
   "cell_type": "code",
   "execution_count": 74,
   "id": "e1592b82",
   "metadata": {},
   "outputs": [
    {
     "data": {
      "text/plain": [
       "3"
      ]
     },
     "execution_count": 74,
     "metadata": {},
     "output_type": "execute_result"
    }
   ],
   "source": [
    "#56. Write a function that counts the occurrences of a specific substring within a NumPy array of strings.\n",
    "arr = np.array(['hello', 'world', 'hello', 'numpy', 'hello'])\n",
    "def count_substring(array, substring):\n",
    "    count = sum(substring in string for string in array)\n",
    "    return count\n",
    "substring = 'hello'\n",
    "count_substring(arr, substring)"
   ]
  },
  {
   "cell_type": "code",
   "execution_count": 75,
   "id": "14fd30db",
   "metadata": {},
   "outputs": [],
   "source": [
    "#57. Write a function that extracts uppercase characters from a NumPy array of strings.\n",
    "arr = np.array(['Hello', 'World', 'OpenAI', 'GPT'])"
   ]
  },
  {
   "cell_type": "code",
   "execution_count": 76,
   "id": "d3e0a58b",
   "metadata": {},
   "outputs": [
    {
     "data": {
      "text/plain": [
       "'HWOAIGPT'"
      ]
     },
     "execution_count": 76,
     "metadata": {},
     "output_type": "execute_result"
    }
   ],
   "source": [
    "def uppercase(arr):\n",
    "    uppercase_characters = [char for string in arr for char in string if char.isupper()]\n",
    "    return \"\".join(uppercase_characters)\n",
    "k = uppercase(arr)\n",
    "k"
   ]
  },
  {
   "cell_type": "code",
   "execution_count": 77,
   "id": "ad3f6fff",
   "metadata": {},
   "outputs": [
    {
     "data": {
      "text/plain": [
       "array(['mango', 'banana', 'grape', 'pinemango'], dtype='<U9')"
      ]
     },
     "execution_count": 77,
     "metadata": {},
     "output_type": "execute_result"
    }
   ],
   "source": [
    "#58. Write a function that replaces occurrences of a substring in a NumPy array of strings with a new string.\n",
    "arr = np.array(['apple', 'banana', 'grape', 'pineapple'])\n",
    "k = np.char.replace(arr,'apple','mango')\n",
    "k"
   ]
  },
  {
   "cell_type": "code",
   "execution_count": 78,
   "id": "225ea3ee",
   "metadata": {},
   "outputs": [
    {
     "data": {
      "text/plain": [
       "array(['HelloOpen', 'WorldAI'], dtype='<U9')"
      ]
     },
     "execution_count": 78,
     "metadata": {},
     "output_type": "execute_result"
    }
   ],
   "source": [
    "#59. Write a function that concatenates strings in a NumPy array element-wise.\n",
    "arr1 = np.array(['Hello', 'World'])\n",
    "arr2 = np.array(['Open', 'AI'])\n",
    "np.char.add(arr1,arr2)"
   ]
  },
  {
   "cell_type": "code",
   "execution_count": 79,
   "id": "903ab561",
   "metadata": {},
   "outputs": [
    {
     "data": {
      "text/plain": [
       "9"
      ]
     },
     "execution_count": 79,
     "metadata": {},
     "output_type": "execute_result"
    }
   ],
   "source": [
    "#60. Write a function that finds the length of the longest string in a NumPy array.\n",
    "arr = np.array(['apple', 'banana', 'grape', 'pineapple'])\n",
    "lengths = np.vectorize(len)(arr)\n",
    "max_len = np.max(lengths)\n",
    "max_len"
   ]
  },
  {
   "cell_type": "raw",
   "id": "4c744828",
   "metadata": {},
   "source": [
    "61. Create a dataset of 100 random integers between 1 and 1000. Compute the mean, median, variance, and \n",
    "standard deviation of the dataset using NumPy's functions"
   ]
  },
  {
   "cell_type": "code",
   "execution_count": 80,
   "id": "bfb030d5",
   "metadata": {},
   "outputs": [
    {
     "name": "stdout",
     "output_type": "stream",
     "text": [
      "500.5 500.5 291.2848886633777 84846.88636363637\n"
     ]
    }
   ],
   "source": [
    "a = np.linspace(1,1000,100)\n",
    "mean = np.mean(a)\n",
    "median = np.median(a)\n",
    "std = np.std(a)\n",
    "var = np.var(a)\n",
    "print(mean,median,std,var)"
   ]
  },
  {
   "cell_type": "raw",
   "id": "f0a28592",
   "metadata": {},
   "source": [
    "62. Generate an array of 50 random numbers between 1 and 100. Find the 25th and 75th percentiles of the \n",
    "dataset."
   ]
  },
  {
   "cell_type": "code",
   "execution_count": 81,
   "id": "161421e7",
   "metadata": {},
   "outputs": [
    {
     "name": "stdout",
     "output_type": "stream",
     "text": [
      "[25.75] [75.25]\n"
     ]
    }
   ],
   "source": [
    "a = np.linspace(1,100,50)\n",
    "q25 = np.percentile(a,[25])\n",
    "q75 = np.percentile(a,[75])\n",
    "print(q25,q75)"
   ]
  },
  {
   "cell_type": "raw",
   "id": "1219d7e9",
   "metadata": {},
   "source": [
    "63. Create two arrays representing two sets of variables. Compute the correlation coefficient between these \n",
    "arrays using NumPy's `corrcoef` function."
   ]
  },
  {
   "cell_type": "code",
   "execution_count": 82,
   "id": "38eb4719",
   "metadata": {},
   "outputs": [
    {
     "data": {
      "text/plain": [
       "0.6705903078599633"
      ]
     },
     "execution_count": 82,
     "metadata": {},
     "output_type": "execute_result"
    }
   ],
   "source": [
    "a = np.array([2,6,33,45,45,67,33,45])\n",
    "b = np.array([4,6,2,34,56,78,95,54])\n",
    "corr_coef = np.corrcoef(a,b)[0,1]\n",
    "corr_coef"
   ]
  },
  {
   "cell_type": "raw",
   "id": "14d2f247",
   "metadata": {},
   "source": [
    "64. Create two matrices and perform matrix multiplication using NumPy's `dot` function."
   ]
  },
  {
   "cell_type": "code",
   "execution_count": 83,
   "id": "9109fd99",
   "metadata": {},
   "outputs": [
    {
     "data": {
      "text/plain": [
       "matrix([[30, 27],\n",
       "        [46, 40]])"
      ]
     },
     "execution_count": 83,
     "metadata": {},
     "output_type": "execute_result"
    }
   ],
   "source": [
    "a = np.matrix([[3,3],[4,5]])\n",
    "b = np.matrix([[4,5],[6,4]])\n",
    "dot_product = np.dot(a,b)\n",
    "dot_product"
   ]
  },
  {
   "cell_type": "raw",
   "id": "8c63a844",
   "metadata": {},
   "source": [
    "65. Create an array of 50 integers between 10 and 1000. Calculate the 10th, 50th (median), and 90th \n",
    "percentiles along with the first and third quartiles"
   ]
  },
  {
   "cell_type": "code",
   "execution_count": 84,
   "id": "38042fc6",
   "metadata": {},
   "outputs": [
    {
     "name": "stdout",
     "output_type": "stream",
     "text": [
      "109.0 505.0 901.0\n",
      "257.5 752.5\n"
     ]
    }
   ],
   "source": [
    "a = np.linspace(10,1000,50)\n",
    "p1 = np.percentile(a,[10,50,90])\n",
    "q1 = np.quantile(a,[0.25,0.75])\n",
    "print(p1[0],p1[1],p1[2])\n",
    "print(q1[0],q1[1])"
   ]
  },
  {
   "cell_type": "raw",
   "id": "14d04594",
   "metadata": {},
   "source": [
    "66. Create a NumPy array of integers and find the index of a specific element."
   ]
  },
  {
   "cell_type": "code",
   "execution_count": 85,
   "id": "7a854f9f",
   "metadata": {},
   "outputs": [
    {
     "data": {
      "text/plain": [
       "(array([1], dtype=int64),)"
      ]
     },
     "execution_count": 85,
     "metadata": {},
     "output_type": "execute_result"
    }
   ],
   "source": [
    "a = np.array([5,8,9,7,4])\n",
    "k = np.where(a==8)#to find the index of 8.\n",
    "k"
   ]
  },
  {
   "cell_type": "raw",
   "id": "ce990973",
   "metadata": {},
   "source": [
    "67. Generate a random NumPy array and sort it in ascending order"
   ]
  },
  {
   "cell_type": "code",
   "execution_count": 86,
   "id": "48fbd156",
   "metadata": {},
   "outputs": [
    {
     "data": {
      "text/plain": [
       "array([-1.44500568, -0.91041837, -0.58621209, -0.13878083, -0.12747841,\n",
       "       -0.03681268,  0.82472799,  1.15333501,  1.22042739,  1.45157881])"
      ]
     },
     "execution_count": 86,
     "metadata": {},
     "output_type": "execute_result"
    }
   ],
   "source": [
    "a = np.random.randn(10)\n",
    "a.sort()\n",
    "a"
   ]
  },
  {
   "cell_type": "raw",
   "id": "455fdbb7",
   "metadata": {},
   "source": [
    "68. Filter elements >20  in the given NumPy array\n",
    "arr = np.array([12, 25, 6, 42, 8, 30])"
   ]
  },
  {
   "cell_type": "code",
   "execution_count": 87,
   "id": "a9f95762",
   "metadata": {},
   "outputs": [
    {
     "data": {
      "text/plain": [
       "array([25, 42, 30])"
      ]
     },
     "execution_count": 87,
     "metadata": {},
     "output_type": "execute_result"
    }
   ],
   "source": [
    "arr = np.array([12, 25, 6, 42, 8, 30])\n",
    "k = arr[arr>20]\n",
    "k"
   ]
  },
  {
   "cell_type": "raw",
   "id": "2e312641",
   "metadata": {},
   "source": [
    "69. Filter elements which are divisible by 3 from a given NumPy array\n",
    "arr = np.array([1, 5, 8, 12, 15]"
   ]
  },
  {
   "cell_type": "code",
   "execution_count": 88,
   "id": "721c7bf0",
   "metadata": {},
   "outputs": [
    {
     "data": {
      "text/plain": [
       "array([12, 15])"
      ]
     },
     "execution_count": 88,
     "metadata": {},
     "output_type": "execute_result"
    }
   ],
   "source": [
    "arr = np.array([1, 5, 8, 12, 15])\n",
    "k = arr[arr%3==0]\n",
    "k"
   ]
  },
  {
   "cell_type": "raw",
   "id": "2a14fb95",
   "metadata": {},
   "source": [
    "70. Filter elements which are ≥ 20 and ≤ 40 from a given NumPy array\n",
    "arr = np.array([10, 20, 30, 40, 50])"
   ]
  },
  {
   "cell_type": "code",
   "execution_count": 89,
   "id": "096ec48f",
   "metadata": {},
   "outputs": [
    {
     "name": "stdout",
     "output_type": "stream",
     "text": [
      "[20 30 40]\n"
     ]
    }
   ],
   "source": [
    "arr = np.array([10, 20, 30, 40, 50])\n",
    "k = (arr<=40)&(arr>=20)\n",
    "print(arr[k])"
   ]
  },
  {
   "cell_type": "raw",
   "id": "4ba3a2f1",
   "metadata": {},
   "source": [
    "71. For the given NumPy array, check its byte order using the `dtype` attribute byteorder.\n",
    "arr = np.array([1, 2, 3])"
   ]
  },
  {
   "cell_type": "code",
   "execution_count": 90,
   "id": "8f5b1a9f",
   "metadata": {},
   "outputs": [
    {
     "name": "stdout",
     "output_type": "stream",
     "text": [
      "=\n"
     ]
    }
   ],
   "source": [
    "arr = np.array([1, 2, 3])\n",
    "print(arr.dtype.byteorder)"
   ]
  },
  {
   "cell_type": "raw",
   "id": "480cf316",
   "metadata": {},
   "source": [
    "72. For the given NumPy array, perform byte swapping in place using `byteswap()`\n",
    "arr = np.array([1, 2, 3], dtype=np.int32)"
   ]
  },
  {
   "cell_type": "code",
   "execution_count": 91,
   "id": "51d08638",
   "metadata": {},
   "outputs": [],
   "source": [
    "arr = np.array([1, 2, 3], dtype=np.int32)"
   ]
  },
  {
   "cell_type": "code",
   "execution_count": 92,
   "id": "9e432750",
   "metadata": {},
   "outputs": [
    {
     "data": {
      "text/plain": [
       "array([16777216, 33554432, 50331648])"
      ]
     },
     "execution_count": 92,
     "metadata": {},
     "output_type": "execute_result"
    }
   ],
   "source": [
    "arr.byteswap(True)"
   ]
  },
  {
   "cell_type": "raw",
   "id": "772be753",
   "metadata": {},
   "source": [
    "73. For the given NumPy array, swap its byte order without modifying the original array using \n",
    "`newbyteorder()`.\n",
    "arr = np.array([1, 2, 3], dtype=np.int32)"
   ]
  },
  {
   "cell_type": "code",
   "execution_count": 93,
   "id": "fc631441",
   "metadata": {},
   "outputs": [
    {
     "name": "stdout",
     "output_type": "stream",
     "text": [
      "[16777216 33554432 50331648]\n"
     ]
    }
   ],
   "source": [
    "arr = np.array([1, 2, 3], dtype=np.int32)\n",
    "k = arr.newbyteorder()\n",
    "print(k)"
   ]
  },
  {
   "cell_type": "raw",
   "id": "217eae25",
   "metadata": {},
   "source": [
    "74. For the given NumPy array and swap its byte order conditionally based on system endianness using \n",
    "`newbyteorder()`\n",
    "arr = np.array([1, 2, 3], dtype=np.int32)"
   ]
  },
  {
   "cell_type": "code",
   "execution_count": 94,
   "id": "ac161b3f",
   "metadata": {},
   "outputs": [
    {
     "data": {
      "text/plain": [
       "array([16777216, 33554432, 50331648], dtype='>i4')"
      ]
     },
     "execution_count": 94,
     "metadata": {},
     "output_type": "execute_result"
    }
   ],
   "source": [
    "arr = np.array([1, 2, 3], dtype=np.int32)\n",
    "k = arr.newbyteorder('S')\n",
    "k"
   ]
  },
  {
   "cell_type": "raw",
   "id": "1a17764e",
   "metadata": {},
   "source": [
    "75. For the given NumPy array, check if byte swapping is necessary for the current system using `dtype` \n",
    "attribute `byteorder`.\n",
    "arr = np.array([1, 2, 3], dtype=np.int32)"
   ]
  },
  {
   "cell_type": "code",
   "execution_count": 95,
   "id": "7770ced6",
   "metadata": {},
   "outputs": [
    {
     "name": "stdout",
     "output_type": "stream",
     "text": [
      "no byte swapping is needed\n"
     ]
    }
   ],
   "source": [
    "arr = np.array([1, 2, 3],dtype = np.int32)\n",
    "k = arr.dtype.byteorder\n",
    "if k == \"=\":\n",
    "    print(\"no byte swapping is needed\")\n",
    "if k==\"<\":\n",
    "    print(\"byte swapping is neessary for big endian systems\")\n",
    "if k ==\">\":\n",
    "    print(\"byte swapping is necessary for little endian systems\")"
   ]
  },
  {
   "cell_type": "raw",
   "id": "2c9f1f43",
   "metadata": {},
   "source": [
    "76. Create a NumPy array `arr1` with values from 1 to 10. Create a copy of `arr1` named `copy_arr` and modify \n",
    "an element in `copy_arr`. Check if modifying `copy_arr` affects `arr1`"
   ]
  },
  {
   "cell_type": "code",
   "execution_count": 96,
   "id": "2de5693d",
   "metadata": {},
   "outputs": [
    {
     "name": "stdout",
     "output_type": "stream",
     "text": [
      "[5 6 9 7 4 8 2 3 1]\n",
      "[ 5 50  9  7  4  8  2  3  1]\n"
     ]
    }
   ],
   "source": [
    "arr1 = np.array([5,6,9,7,4,8,2,3,1])\n",
    "copy_arr = arr1.copy()\n",
    "copy_arr[1]=50\n",
    "print(arr1)\n",
    "print(copy_arr)#it doesnt effects."
   ]
  },
  {
   "cell_type": "raw",
   "id": "34d9729e",
   "metadata": {},
   "source": [
    "77. Create a 2D NumPy array `matrix` of shape (3, 3) with random integers. Extract a slice `view_slice` from \n",
    "the matrix. Modify an element in `view_slice` and observe if it changes the original `matrix`."
   ]
  },
  {
   "cell_type": "code",
   "execution_count": 100,
   "id": "8dde5ab1",
   "metadata": {},
   "outputs": [
    {
     "name": "stdout",
     "output_type": "stream",
     "text": [
      "[[6 9 3]\n",
      " [6 7 7]\n",
      " [8 1 1]]\n",
      "[[6 9]\n",
      " [6 7]]\n",
      "[[5 9 3]\n",
      " [6 7 7]\n",
      " [8 1 1]]\n"
     ]
    }
   ],
   "source": [
    "arr = np.random.randint(0,10,size = (3,3))\n",
    "print(arr)\n",
    "view_slice = arr[:2,:2]\n",
    "print(view_slice)\n",
    "view_slice[0,0] = 5\n",
    "print(arr)#the change affected the original matrix."
   ]
  },
  {
   "cell_type": "raw",
   "id": "60933bc2",
   "metadata": {},
   "source": [
    "78. Create a NumPy array `array_a` of shape (4, 3) with sequential integers from 1 to 12. Extract a slice \n",
    "`view_b` from `array_a` and broadcast the addition of 5 to view_b. Check if it alters the original `array_a`."
   ]
  },
  {
   "cell_type": "code",
   "execution_count": 109,
   "id": "e62c1dd2",
   "metadata": {},
   "outputs": [
    {
     "name": "stdout",
     "output_type": "stream",
     "text": [
      "[[ 1  2  3]\n",
      " [ 4  5  6]\n",
      " [ 7  8  9]\n",
      " [10 11 12]]\n",
      "[[1 2]\n",
      " [4 5]]\n",
      "[[ 6  7]\n",
      " [ 9 10]]\n",
      "[[ 1  2  3]\n",
      " [ 4  5  6]\n",
      " [ 7  8  9]\n",
      " [10 11 12]]\n"
     ]
    }
   ],
   "source": [
    "arr = np.arange(1,13).reshape(4,3)\n",
    "print(arr)\n",
    "view_b = arr[:2,:2]\n",
    "print(view_b)\n",
    "view_b=view_b+5\n",
    "print(view_b)\n",
    "print(arr)\n",
    "\n"
   ]
  },
  {
   "cell_type": "raw",
   "id": "89582464",
   "metadata": {},
   "source": [
    "79. Create a NumPy array `orig_array` of shape (2, 4) with values from 1 to 8. Create a reshaped view \n",
    "`reshaped_view` of shape (4, 2) from orig_array. Modify an element in `reshaped_view` and check if it \n",
    "reflects changes in the original `orig_array`"
   ]
  },
  {
   "cell_type": "code",
   "execution_count": 114,
   "id": "fab9ec3b",
   "metadata": {},
   "outputs": [
    {
     "name": "stdout",
     "output_type": "stream",
     "text": [
      "[[1 2 3 4]\n",
      " [5 6 7 8]]\n",
      "[[5 2 3 4]\n",
      " [5 6 7 8]]\n"
     ]
    }
   ],
   "source": [
    "orig_arr = np.arange(1,9).reshape(2,4)\n",
    "print(orig_arr)\n",
    "reshaped_view = orig_arr.reshape(4,2)\n",
    "reshaped_view[0,0]=5\n",
    "print(orig_arr)#yes it reflects the changes."
   ]
  },
  {
   "cell_type": "raw",
   "id": "54d17941",
   "metadata": {},
   "source": [
    "80. Create a NumPy array `data` of shape (3, 4) with random integers. Extract a copy `data_copy` of \n",
    "elements greater than 5. Modify an element in `data_copy` and verify if it affects the original `data`."
   ]
  },
  {
   "cell_type": "code",
   "execution_count": 125,
   "id": "ad9b7e30",
   "metadata": {},
   "outputs": [
    {
     "name": "stdout",
     "output_type": "stream",
     "text": [
      "[[ 6  1  5  9]\n",
      " [ 6  7  9  7]\n",
      " [ 0  7 10  0]]\n",
      "[ 6  9  6  7  9  7  7 10]\n",
      "[ 4  9  6  7  9  7  7 10]\n",
      "[[ 6  1  5  9]\n",
      " [ 6  7  9  7]\n",
      " [ 0  7 10  0]]\n"
     ]
    }
   ],
   "source": [
    "arr = np.random.randint(0,11,size = (3,4))\n",
    "print(arr)\n",
    "data_copy =  arr[arr>5]\n",
    "print(data_copy)\n",
    "data_copy[0] = 4\n",
    "print(data_copy)\n",
    "print(arr)#no it deoesnt reflect any change"
   ]
  },
  {
   "cell_type": "raw",
   "id": "77c2ca98",
   "metadata": {},
   "source": [
    "81. Create two matrices A and B of identical shape containing integers and perform addition and subtraction \n",
    "operations between them"
   ]
  },
  {
   "cell_type": "code",
   "execution_count": 130,
   "id": "27fbc8e2",
   "metadata": {},
   "outputs": [
    {
     "name": "stdout",
     "output_type": "stream",
     "text": [
      "[[-7 -4  1  8]\n",
      " [ 4 -3  8 -2]]\n",
      "[[ 9 14 15 10]\n",
      " [ 8  9  8 16]]\n"
     ]
    }
   ],
   "source": [
    "m1 = np.matrix([1,5,8,9,6,3,8,7]).reshape(2,4)\n",
    "m2 = np.matrix([8,9,7,1,2,6,0,9]).reshape(2,4)\n",
    "print(m1-m2)\n",
    "print(m1+m2)"
   ]
  },
  {
   "cell_type": "raw",
   "id": "c072d6e9",
   "metadata": {},
   "source": [
    "82. Generate two matrices `C` (3x2) and `D` (2x4) and perform matrix multiplication."
   ]
  },
  {
   "cell_type": "code",
   "execution_count": 133,
   "id": "a14784f8",
   "metadata": {},
   "outputs": [
    {
     "name": "stdout",
     "output_type": "stream",
     "text": [
      "[[5 8]\n",
      " [9 6]\n",
      " [3 4]]\n",
      "[[2 8 7 4]\n",
      " [6 1 8 7]]\n",
      "[[ 58  48  99  76]\n",
      " [ 54  78 111  78]\n",
      " [ 30  28  53  40]]\n"
     ]
    }
   ],
   "source": [
    "m1 = np.matrix([5,8,9,6,3,4]).reshape(3,2)\n",
    "print(m1)\n",
    "m2 = np.matrix([2,8,7,4,6,1,8,7]).reshape(2,4)\n",
    "print(m2)\n",
    "mul = np.matmul(m1,m2)\n",
    "print(mul)"
   ]
  },
  {
   "cell_type": "raw",
   "id": "f43982c7",
   "metadata": {},
   "source": [
    "83. Create a matrix `E` and find its transpose."
   ]
  },
  {
   "cell_type": "code",
   "execution_count": 135,
   "id": "3b07539f",
   "metadata": {},
   "outputs": [
    {
     "name": "stdout",
     "output_type": "stream",
     "text": [
      "[[5 8 7]\n",
      " [9 4 6]]\n",
      "[[5 9]\n",
      " [8 4]\n",
      " [7 6]]\n"
     ]
    }
   ],
   "source": [
    "E = np.matrix([5,8,7,9,4,6]).reshape(2,3)\n",
    "print(E)\n",
    "E_t = E.T#E transpose.\n",
    "print(E_t)"
   ]
  },
  {
   "cell_type": "raw",
   "id": "3028771e",
   "metadata": {},
   "source": [
    "84. Generate a square matrix `F` and compute its determinant."
   ]
  },
  {
   "cell_type": "code",
   "execution_count": 142,
   "id": "8528be9e",
   "metadata": {},
   "outputs": [
    {
     "name": "stdout",
     "output_type": "stream",
     "text": [
      "[[ 5  8  7]\n",
      " [ 9  4  6]\n",
      " [10 17  0]]\n",
      "761.0000000000002\n"
     ]
    }
   ],
   "source": [
    "F = np.matrix([5,8,7,9,4,6,10,17,0]).reshape(3,3)\n",
    "print(F)\n",
    "det = np.linalg.det(F)\n",
    "print(det)#it's determinant."
   ]
  },
  {
   "cell_type": "raw",
   "id": "2ce42a92",
   "metadata": {},
   "source": [
    "85. Create a square matrix `G` and find its inverse."
   ]
  },
  {
   "cell_type": "code",
   "execution_count": 146,
   "id": "0dbb3938",
   "metadata": {},
   "outputs": [
    {
     "name": "stdout",
     "output_type": "stream",
     "text": [
      "[[ 5  8  7]\n",
      " [ 9  4  6]\n",
      " [10 17  0]]\n",
      "[[-0.13403417  0.15637319  0.02628121]\n",
      " [ 0.07884363 -0.09198423  0.04336399]\n",
      " [ 0.14848883 -0.0065703  -0.06833114]]\n"
     ]
    }
   ],
   "source": [
    "G =  np.matrix([5,8,7,9,4,6,10,17,0]).reshape(3,3)\n",
    "print(G)\n",
    "inv = np.linalg.inv(G)\n",
    "print(inv)"
   ]
  },
  {
   "cell_type": "code",
   "execution_count": null,
   "id": "72b3c08d",
   "metadata": {},
   "outputs": [],
   "source": []
  },
  {
   "cell_type": "code",
   "execution_count": null,
   "id": "5dc3d4df",
   "metadata": {},
   "outputs": [],
   "source": []
  },
  {
   "cell_type": "code",
   "execution_count": null,
   "id": "ec85c441",
   "metadata": {},
   "outputs": [],
   "source": []
  },
  {
   "cell_type": "code",
   "execution_count": null,
   "id": "e5895318",
   "metadata": {},
   "outputs": [],
   "source": []
  },
  {
   "cell_type": "code",
   "execution_count": null,
   "id": "8e07dde1",
   "metadata": {},
   "outputs": [],
   "source": []
  },
  {
   "cell_type": "code",
   "execution_count": null,
   "id": "46b47fe8",
   "metadata": {},
   "outputs": [],
   "source": []
  },
  {
   "cell_type": "code",
   "execution_count": null,
   "id": "66528137",
   "metadata": {},
   "outputs": [],
   "source": []
  },
  {
   "cell_type": "code",
   "execution_count": null,
   "id": "b7d0ebd5",
   "metadata": {},
   "outputs": [],
   "source": []
  },
  {
   "cell_type": "code",
   "execution_count": null,
   "id": "494cbaf0",
   "metadata": {},
   "outputs": [],
   "source": []
  },
  {
   "cell_type": "code",
   "execution_count": null,
   "id": "48760d1f",
   "metadata": {},
   "outputs": [],
   "source": []
  }
 ],
 "metadata": {
  "kernelspec": {
   "display_name": "Python 3 (ipykernel)",
   "language": "python",
   "name": "python3"
  },
  "language_info": {
   "codemirror_mode": {
    "name": "ipython",
    "version": 3
   },
   "file_extension": ".py",
   "mimetype": "text/x-python",
   "name": "python",
   "nbconvert_exporter": "python",
   "pygments_lexer": "ipython3",
   "version": "3.11.7"
  }
 },
 "nbformat": 4,
 "nbformat_minor": 5
}
